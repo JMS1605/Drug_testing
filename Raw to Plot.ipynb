{
 "cells": [
  {
   "cell_type": "code",
   "execution_count": 2,
   "id": "a40c7ef4",
   "metadata": {},
   "outputs": [
    {
     "ename": "ModuleNotFoundError",
     "evalue": "No module named 'pandas'",
     "output_type": "error",
     "traceback": [
      "\u001b[31m---------------------------------------------------------------------------\u001b[39m",
      "\u001b[31mModuleNotFoundError\u001b[39m                       Traceback (most recent call last)",
      "\u001b[36mCell\u001b[39m\u001b[36m \u001b[39m\u001b[32mIn[2]\u001b[39m\u001b[32m, line 1\u001b[39m\n\u001b[32m----> \u001b[39m\u001b[32m1\u001b[39m \u001b[38;5;28;01mimport\u001b[39;00m\u001b[38;5;250m \u001b[39m\u001b[34;01mpandas\u001b[39;00m\u001b[38;5;250m \u001b[39m\u001b[38;5;28;01mas\u001b[39;00m\u001b[38;5;250m \u001b[39m\u001b[34;01mpd\u001b[39;00m\n\u001b[32m      3\u001b[39m \u001b[38;5;66;03m# Treatment labels (16 treatments × 4 replicates)\u001b[39;00m\n\u001b[32m      4\u001b[39m treatments = [\n\u001b[32m      5\u001b[39m     \u001b[33m\"\u001b[39m\u001b[33mNC\u001b[39m\u001b[33m\"\u001b[39m, \u001b[33m\"\u001b[39m\u001b[33mDip8\u001b[39m\u001b[33m\"\u001b[39m, \u001b[33m\"\u001b[39m\u001b[33mDip16\u001b[39m\u001b[33m\"\u001b[39m, \u001b[33m\"\u001b[39m\u001b[33mDip32\u001b[39m\u001b[33m\"\u001b[39m,\n\u001b[32m      6\u001b[39m     \u001b[33m\"\u001b[39m\u001b[33mT-720\u001b[39m\u001b[33m\"\u001b[39m, \u001b[33m\"\u001b[39m\u001b[33mT-360\u001b[39m\u001b[33m\"\u001b[39m, \u001b[33m\"\u001b[39m\u001b[33mT-180\u001b[39m\u001b[33m\"\u001b[39m,\n\u001b[32m   (...)\u001b[39m\u001b[32m      9\u001b[39m     \u001b[33m\"\u001b[39m\u001b[33mDip32/T-720\u001b[39m\u001b[33m\"\u001b[39m, \u001b[33m\"\u001b[39m\u001b[33mDip32/T-360\u001b[39m\u001b[33m\"\u001b[39m, \u001b[33m\"\u001b[39m\u001b[33mDip32/T-180\u001b[39m\u001b[33m\"\u001b[39m\n\u001b[32m     10\u001b[39m ]\n",
      "\u001b[31mModuleNotFoundError\u001b[39m: No module named 'pandas'"
     ]
    }
   ],
   "source": [
    "import pandas as pd\n",
    "\n",
    "# Treatment labels (16 treatments × 4 replicates)\n",
    "treatments = [\n",
    "    \"NC\", \"Dip8\", \"Dip16\", \"Dip32\",\n",
    "    \"T-720\", \"T-360\", \"T-180\",\n",
    "    \"Dip8/T-720\", \"Dip8/T-360\", \"Dip8/T-180\",\n",
    "    \"Dip16/T-720\", \"Dip16/T-360\", \"Dip16/T-180\",\n",
    "    \"Dip32/T-720\", \"Dip32/T-360\", \"Dip32/T-180\"\n",
    "]\n",
    "\n",
    "# Load the 96 wells plate data\n",
    "df_plate = pd.read_csv(\"dip_tuc_1.csv\", header=None,sep=';')\n",
    "\n",
    "# Clean and convert values to float, replacing commas\n",
    "df_cleaned = df_plate.map(\n",
    "    lambda x: float(str(x).replace(\",\", \".\")) if pd.notna(x) and \"EP\" not in str(x) else None\n",
    ")\n",
    "\n",
    "# Initialize result container\n",
    "data = []\n",
    "\n",
    "# Current treatment index\n",
    "treatment_index = 0\n",
    "\n",
    "# Loop over columns\n",
    "for col in range(df_cleaned.shape[1]):\n",
    "    col_values = df_cleaned.iloc[:, col]\n",
    "\n",
    "    # Extract all valid (non-na) values from the column\n",
    "    valid_vals = col_values.dropna().tolist()\n",
    "\n",
    "    # Process in groups of 4\n",
    "    for i in range(0, len(valid_vals), 4):\n",
    "        reps = valid_vals[i:i+4]\n",
    "        if len(reps) == 4 and treatment_index < len(treatments):\n",
    "            data.append([treatments[treatment_index]] + reps)\n",
    "            treatment_index += 1\n",
    "\n",
    "# Build DataFrame with raw data\n",
    "df_raw = pd.DataFrame(data, columns=[\"treatment\", \"rep1\", \"rep2\", \"rep3\", \"rep4\"])\n",
    "\n",
    "#save raw data if needed\n",
    "#df_raw.to_csv(\"df_raw.csv\", index=False)\n"
   ]
  },
  {
   "cell_type": "code",
   "execution_count": null,
   "id": "d5d23f3e",
   "metadata": {},
   "outputs": [],
   "source": [
    "#### Build DataFrame for Lab plot ####\n",
    "import numpy as np\n",
    "\n",
    "# Rename for clarity and to keep both files\n",
    "df_plot = df_raw.copy()\n",
    "\n",
    "# Calculate mean of the negative control (NC)\n",
    "nc_values = df_plot[df_plot[\"treatment\"] == \"NC\"].iloc[0, 1:5].values.astype(float)\n",
    "nc_mean = np.mean(nc_values)\n",
    "\n",
    "# Normalize OD values to viability\n",
    "for rep in [\"rep1\", \"rep2\", \"rep3\", \"rep4\"]:\n",
    "    df_plot[rep] = df_plot[rep].astype(float) / nc_mean * 100\n",
    "\n",
    "# Add 'mean' and 'SD' columns\n",
    "df_plot[\"mean\"] = df_plot[[\"rep1\", \"rep2\", \"rep3\", \"rep4\"]].mean(axis=1)\n",
    "df_plot[\"SD\"] = df_plot[[\"rep1\", \"rep2\", \"rep3\", \"rep4\"]].std(axis=1)\n",
    "\n",
    "# Preview\n",
    "print(df_plot)\n",
    "\n",
    "# Save the normalized data to plot\n",
    "df_plot.to_csv(\"df_plot.csv\", index=False)\n"
   ]
  },
  {
   "cell_type": "code",
   "execution_count": 1,
   "id": "a52edc3d",
   "metadata": {},
   "outputs": [
    {
     "name": "stdout",
     "output_type": "stream",
     "text": [
      "hola\n"
     ]
    }
   ],
   "source": [
    "print('hola')"
   ]
  }
 ],
 "metadata": {
  "kernelspec": {
   "display_name": "Python 3",
   "language": "python",
   "name": "python3"
  },
  "language_info": {
   "codemirror_mode": {
    "name": "ipython",
    "version": 3
   },
   "file_extension": ".py",
   "mimetype": "text/x-python",
   "name": "python",
   "nbconvert_exporter": "python",
   "pygments_lexer": "ipython3",
   "version": "3.13.3"
  }
 },
 "nbformat": 4,
 "nbformat_minor": 5
}
